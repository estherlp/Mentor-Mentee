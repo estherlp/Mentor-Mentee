{
 "cells": [
  {
   "cell_type": "markdown",
   "metadata": {},
   "source": [
    "# Mentor-Mentee Recommendation System"
   ]
  },
  {
   "cell_type": "markdown",
   "metadata": {},
   "source": [
    "In this project I will build a recommendation system that matches mentees with mentors based on text. "
   ]
  },
  {
   "cell_type": "markdown",
   "metadata": {},
   "source": [
    "The dataset used for this is the public DBLP dataset. "
   ]
  },
  {
   "cell_type": "markdown",
   "metadata": {},
   "source": [
    "## Preparations"
   ]
  },
  {
   "cell_type": "markdown",
   "metadata": {},
   "source": [
    "#### Packages"
   ]
  },
  {
   "cell_type": "code",
   "execution_count": 1,
   "metadata": {
    "scrolled": true
   },
   "outputs": [],
   "source": [
    "import os\n",
    "\n",
    "import xml.sax\n",
    "import re\n",
    "import csv\n",
    "\n",
    "import random\n",
    "\n",
    "#topic extraction\n",
    "from rake_nltk import Rake\n",
    "\n",
    "\n",
    "#and the usual suspects:\n",
    "import pandas as pd\n",
    "import numpy as np\n",
    "\n",
    "import seaborn as sns\n",
    "import matplotlib.pyplot as plt\n",
    "%matplotlib inline"
   ]
  },
  {
   "cell_type": "markdown",
   "metadata": {},
   "source": [
    "#### Importing the Data"
   ]
  },
  {
   "cell_type": "markdown",
   "metadata": {},
   "source": [
    "Setting the working directory:"
   ]
  },
  {
   "cell_type": "code",
   "execution_count": 2,
   "metadata": {
    "collapsed": true
   },
   "outputs": [],
   "source": [
    "os.chdir(\"C:/Users/IBM_Admin/Desktop/PMI\")"
   ]
  },
  {
   "cell_type": "markdown",
   "metadata": {},
   "source": [
    "Importing the data as xml file and creating two txt files:"
   ]
  },
  {
   "cell_type": "code",
   "execution_count": null,
   "metadata": {
    "collapsed": true
   },
   "outputs": [],
   "source": [
    "class DBLPContentHandler(xml.sax.ContentHandler):\n",
    "  \"\"\"\n",
    "  Reads the dblp.xml file and produces two output files.\n",
    "        pubFile.txt = (key, pubtype) tuples\n",
    "        fieldFile.txt = (key, fieldCnt, field, value) tuples\n",
    "  Each file is tab-separated\n",
    "  \"\"\"\n",
    "\n",
    "  def __init__(self):\n",
    "    xml.sax.ContentHandler.__init__(self) #initializing the new class\n",
    "\n",
    "\n",
    "  def startElement(self, name, attrs):\n",
    "    if name == \"dblp\":\n",
    "      DBLPContentHandler.pubFile = open('pubFile.txt', 'w')\n",
    "      DBLPContentHandler.fieldFile = open('fieldFile.txt', 'w')\n",
    "      DBLPContentHandler.pubList = [\"article\", \"inproceedings\", \"proceedings\", \"book\", \"incollection\", \n",
    "                                    \"phdthesis\", \"mastersthesis\", \"www\"]\n",
    "      DBLPContentHandler.fieldList = [\"author\", \"editor\", \"title\", \"booktitle\", \"pages\", \"year\", \"address\", \n",
    "                                      \"journal\", \"volume\", \"number\", \"month\", \"url\", \"ee\", \"cdrom\", \"cite\", \n",
    "                                      \"publisher\", \"note\", \"crossref\", \"isbn\", \"series\", \"school\", \"chapter\"]\n",
    "      DBLPContentHandler.content = \"\"\n",
    "    if name in DBLPContentHandler.pubList:\n",
    "      DBLPContentHandler.key = attrs.getValue(\"key\")\n",
    "      DBLPContentHandler.pub = name\n",
    "      DBLPContentHandler.fieldCount = 0b\n",
    "      DBLPContentHandler.content = \"\"\n",
    "    if name in DBLPContentHandler.fieldList:\n",
    "      DBLPContentHandler.field = name\n",
    "      DBLPContentHandler.content = \"\"\n",
    " \n",
    "  def endElement(self, name):\n",
    "    if name in DBLPContentHandler.fieldList:\n",
    "      DBLPContentHandler.fieldFile.write(DBLPContentHandler.key)\n",
    "      DBLPContentHandler.fieldFile.write(\"\\t\")\n",
    "      DBLPContentHandler.fieldFile.write(str(DBLPContentHandler.fieldCount))\n",
    "      DBLPContentHandler.fieldFile.write( \"\\t\")\n",
    "      DBLPContentHandler.fieldFile.write(DBLPContentHandler.field)\n",
    "      DBLPContentHandler.fieldFile.write(\"\\t\")\n",
    "      DBLPContentHandler.fieldFile.write(DBLPContentHandler.content)\n",
    "      DBLPContentHandler.fieldFile.write(\"\\n\")\n",
    "      DBLPContentHandler.fieldCount += 1\n",
    "    if name in DBLPContentHandler.pubList:\n",
    "      DBLPContentHandler.pubFile.write(DBLPContentHandler.key)\n",
    "      DBLPContentHandler.pubFile.write(\"\\t\")\n",
    "      DBLPContentHandler.pubFile.write(DBLPContentHandler.pub)\n",
    "      DBLPContentHandler.pubFile.write(\"\\n\")\n",
    "\n",
    "  def characters(self, content):\n",
    "    DBLPContentHandler.content += content.encode('utf-8').replace('\\\\','\\\\\\\\')\n",
    "\n",
    "def main(sourceFileName):\n",
    "  source = open(sourceFileName)\n",
    "  xml.sax.parse(source, DBLPContentHandler())\n",
    " \n",
    "if __name__ == \"__main__\":\n",
    "    main(\"C:/Users/IBM_Admin/Desktop/PMI/dblp.xml\")"
   ]
  },
  {
   "cell_type": "markdown",
   "metadata": {},
   "source": [
    "### Setting up indexes and column names"
   ]
  },
  {
   "cell_type": "markdown",
   "metadata": {},
   "source": [
    "Opening the resulting txt files:"
   ]
  },
  {
   "cell_type": "code",
   "execution_count": 3,
   "metadata": {
    "collapsed": true
   },
   "outputs": [],
   "source": [
    "Field = pd.read_table(\"fieldFile.txt\",header=None,index_col=[0])\n",
    "Pub = pd.read_table(\"pubFile.txt\", header = None, index_col=[0])"
   ]
  },
  {
   "cell_type": "code",
   "execution_count": 4,
   "metadata": {},
   "outputs": [
    {
     "data": {
      "text/html": [
       "<div>\n",
       "<style>\n",
       "    .dataframe thead tr:only-child th {\n",
       "        text-align: right;\n",
       "    }\n",
       "\n",
       "    .dataframe thead th {\n",
       "        text-align: left;\n",
       "    }\n",
       "\n",
       "    .dataframe tbody tr th {\n",
       "        vertical-align: top;\n",
       "    }\n",
       "</style>\n",
       "<table border=\"1\" class=\"dataframe\">\n",
       "  <thead>\n",
       "    <tr style=\"text-align: right;\">\n",
       "      <th></th>\n",
       "      <th>number</th>\n",
       "      <th>attribute</th>\n",
       "      <th>value</th>\n",
       "    </tr>\n",
       "    <tr>\n",
       "      <th>key</th>\n",
       "      <th></th>\n",
       "      <th></th>\n",
       "      <th></th>\n",
       "    </tr>\n",
       "  </thead>\n",
       "  <tbody>\n",
       "    <tr>\n",
       "      <th>journals/acta/Saxena96</th>\n",
       "      <td>0</td>\n",
       "      <td>author</td>\n",
       "      <td>Sanjeev Saxena</td>\n",
       "    </tr>\n",
       "    <tr>\n",
       "      <th>journals/acta/Saxena96</th>\n",
       "      <td>1</td>\n",
       "      <td>title</td>\n",
       "      <td>Parallel Integer Sorting and Simulation Amongs...</td>\n",
       "    </tr>\n",
       "    <tr>\n",
       "      <th>journals/acta/Saxena96</th>\n",
       "      <td>2</td>\n",
       "      <td>pages</td>\n",
       "      <td>607-619</td>\n",
       "    </tr>\n",
       "    <tr>\n",
       "      <th>journals/acta/Saxena96</th>\n",
       "      <td>3</td>\n",
       "      <td>year</td>\n",
       "      <td>1996</td>\n",
       "    </tr>\n",
       "    <tr>\n",
       "      <th>journals/acta/Saxena96</th>\n",
       "      <td>4</td>\n",
       "      <td>volume</td>\n",
       "      <td>33</td>\n",
       "    </tr>\n",
       "  </tbody>\n",
       "</table>\n",
       "</div>"
      ],
      "text/plain": [
       "                        number attribute  \\\n",
       "key                                        \n",
       "journals/acta/Saxena96       0    author   \n",
       "journals/acta/Saxena96       1     title   \n",
       "journals/acta/Saxena96       2     pages   \n",
       "journals/acta/Saxena96       3      year   \n",
       "journals/acta/Saxena96       4    volume   \n",
       "\n",
       "                                                                    value  \n",
       "key                                                                        \n",
       "journals/acta/Saxena96                                     Sanjeev Saxena  \n",
       "journals/acta/Saxena96  Parallel Integer Sorting and Simulation Amongs...  \n",
       "journals/acta/Saxena96                                            607-619  \n",
       "journals/acta/Saxena96                                               1996  \n",
       "journals/acta/Saxena96                                                 33  "
      ]
     },
     "execution_count": 4,
     "metadata": {},
     "output_type": "execute_result"
    }
   ],
   "source": [
    "Field.columns = [\"number\" , \"attribute\", \"value\"]\n",
    "Field.index.names=[\"key\"]\n",
    "Field.head()"
   ]
  },
  {
   "cell_type": "code",
   "execution_count": 5,
   "metadata": {
    "scrolled": true
   },
   "outputs": [
    {
     "data": {
      "text/html": [
       "<div>\n",
       "<style>\n",
       "    .dataframe thead tr:only-child th {\n",
       "        text-align: right;\n",
       "    }\n",
       "\n",
       "    .dataframe thead th {\n",
       "        text-align: left;\n",
       "    }\n",
       "\n",
       "    .dataframe tbody tr th {\n",
       "        vertical-align: top;\n",
       "    }\n",
       "</style>\n",
       "<table border=\"1\" class=\"dataframe\">\n",
       "  <thead>\n",
       "    <tr style=\"text-align: right;\">\n",
       "      <th></th>\n",
       "      <th>type</th>\n",
       "    </tr>\n",
       "    <tr>\n",
       "      <th>key</th>\n",
       "      <th></th>\n",
       "    </tr>\n",
       "  </thead>\n",
       "  <tbody>\n",
       "    <tr>\n",
       "      <th>journals/acta/Saxena96</th>\n",
       "      <td>article</td>\n",
       "    </tr>\n",
       "    <tr>\n",
       "      <th>journals/acta/Simon83</th>\n",
       "      <td>article</td>\n",
       "    </tr>\n",
       "    <tr>\n",
       "      <th>journals/acta/GoodmanS83</th>\n",
       "      <td>article</td>\n",
       "    </tr>\n",
       "    <tr>\n",
       "      <th>journals/acta/Blum82</th>\n",
       "      <td>article</td>\n",
       "    </tr>\n",
       "    <tr>\n",
       "      <th>journals/acta/Schonhage77</th>\n",
       "      <td>article</td>\n",
       "    </tr>\n",
       "  </tbody>\n",
       "</table>\n",
       "</div>"
      ],
      "text/plain": [
       "                              type\n",
       "key                               \n",
       "journals/acta/Saxena96     article\n",
       "journals/acta/Simon83      article\n",
       "journals/acta/GoodmanS83   article\n",
       "journals/acta/Blum82       article\n",
       "journals/acta/Schonhage77  article"
      ]
     },
     "execution_count": 5,
     "metadata": {},
     "output_type": "execute_result"
    }
   ],
   "source": [
    "Pub.columns = [\"type\"]\n",
    "Pub.index.names=[\"key\"]\n",
    "Pub.head()"
   ]
  },
  {
   "cell_type": "markdown",
   "metadata": {},
   "source": [
    "Before I do anything else I'm going to calculate how many co-authors every article has. I'm planning to merge this back to an author-level dataset, so I'm substracting 1 as authors have not worked with themselves."
   ]
  },
  {
   "cell_type": "code",
   "execution_count": 6,
   "metadata": {},
   "outputs": [
    {
     "data": {
      "text/html": [
       "<div>\n",
       "<style>\n",
       "    .dataframe thead tr:only-child th {\n",
       "        text-align: right;\n",
       "    }\n",
       "\n",
       "    .dataframe thead th {\n",
       "        text-align: left;\n",
       "    }\n",
       "\n",
       "    .dataframe tbody tr th {\n",
       "        vertical-align: top;\n",
       "    }\n",
       "</style>\n",
       "<table border=\"1\" class=\"dataframe\">\n",
       "  <thead>\n",
       "    <tr style=\"text-align: right;\">\n",
       "      <th></th>\n",
       "      <th>number of co-authors</th>\n",
       "    </tr>\n",
       "    <tr>\n",
       "      <th>key</th>\n",
       "      <th></th>\n",
       "    </tr>\n",
       "  </thead>\n",
       "  <tbody>\n",
       "    <tr>\n",
       "      <th>books/acm/0082477</th>\n",
       "      <td>0</td>\n",
       "    </tr>\n",
       "    <tr>\n",
       "      <th>books/acm/kim95/AnnevelinkACFHK95</th>\n",
       "      <td>5</td>\n",
       "    </tr>\n",
       "    <tr>\n",
       "      <th>books/acm/kim95/Blakeley95</th>\n",
       "      <td>0</td>\n",
       "    </tr>\n",
       "    <tr>\n",
       "      <th>books/acm/kim95/BreitbartGS95</th>\n",
       "      <td>2</td>\n",
       "    </tr>\n",
       "    <tr>\n",
       "      <th>books/acm/kim95/BreitbartR95</th>\n",
       "      <td>1</td>\n",
       "    </tr>\n",
       "  </tbody>\n",
       "</table>\n",
       "</div>"
      ],
      "text/plain": [
       "                                   number of co-authors\n",
       "key                                                    \n",
       "books/acm/0082477                                     0\n",
       "books/acm/kim95/AnnevelinkACFHK95                     5\n",
       "books/acm/kim95/Blakeley95                            0\n",
       "books/acm/kim95/BreitbartGS95                         2\n",
       "books/acm/kim95/BreitbartR95                          1"
      ]
     },
     "execution_count": 6,
     "metadata": {},
     "output_type": "execute_result"
    }
   ],
   "source": [
    "authorcount = pd.DataFrame(Field.loc[Field[\"attribute\"]==\"author\"].iloc[:,2])\n",
    "authorcount = authorcount.groupby('key').agg('count')\n",
    "authorcount.columns = [\"number of co-authors\"]\n",
    "authorcount[\"number of co-authors\"] = pd.to_numeric(authorcount[\"number of co-authors\"]) -1 #remove self\n",
    "authorcount.head()\n",
    "\n",
    "## number of unique co-authors?"
   ]
  },
  {
   "cell_type": "markdown",
   "metadata": {},
   "source": [
    "Merge Pub with authorcount"
   ]
  },
  {
   "cell_type": "code",
   "execution_count": 7,
   "metadata": {},
   "outputs": [
    {
     "data": {
      "text/html": [
       "<div>\n",
       "<style>\n",
       "    .dataframe thead tr:only-child th {\n",
       "        text-align: right;\n",
       "    }\n",
       "\n",
       "    .dataframe thead th {\n",
       "        text-align: left;\n",
       "    }\n",
       "\n",
       "    .dataframe tbody tr th {\n",
       "        vertical-align: top;\n",
       "    }\n",
       "</style>\n",
       "<table border=\"1\" class=\"dataframe\">\n",
       "  <thead>\n",
       "    <tr style=\"text-align: right;\">\n",
       "      <th></th>\n",
       "      <th>type</th>\n",
       "      <th>number of co-authors</th>\n",
       "    </tr>\n",
       "    <tr>\n",
       "      <th>key</th>\n",
       "      <th></th>\n",
       "      <th></th>\n",
       "    </tr>\n",
       "  </thead>\n",
       "  <tbody>\n",
       "    <tr>\n",
       "      <th>journals/acta/Saxena96</th>\n",
       "      <td>article</td>\n",
       "      <td>0.0</td>\n",
       "    </tr>\n",
       "    <tr>\n",
       "      <th>journals/acta/Simon83</th>\n",
       "      <td>article</td>\n",
       "      <td>0.0</td>\n",
       "    </tr>\n",
       "    <tr>\n",
       "      <th>journals/acta/GoodmanS83</th>\n",
       "      <td>article</td>\n",
       "      <td>1.0</td>\n",
       "    </tr>\n",
       "    <tr>\n",
       "      <th>journals/acta/Blum82</th>\n",
       "      <td>article</td>\n",
       "      <td>0.0</td>\n",
       "    </tr>\n",
       "    <tr>\n",
       "      <th>journals/acta/Schonhage77</th>\n",
       "      <td>article</td>\n",
       "      <td>0.0</td>\n",
       "    </tr>\n",
       "  </tbody>\n",
       "</table>\n",
       "</div>"
      ],
      "text/plain": [
       "                              type  number of co-authors\n",
       "key                                                     \n",
       "journals/acta/Saxena96     article                   0.0\n",
       "journals/acta/Simon83      article                   0.0\n",
       "journals/acta/GoodmanS83   article                   1.0\n",
       "journals/acta/Blum82       article                   0.0\n",
       "journals/acta/Schonhage77  article                   0.0"
      ]
     },
     "execution_count": 7,
     "metadata": {},
     "output_type": "execute_result"
    }
   ],
   "source": [
    "Pub = Pub.join(authorcount)\n",
    "Pub.head()"
   ]
  },
  {
   "cell_type": "markdown",
   "metadata": {},
   "source": [
    "### Random Selection"
   ]
  },
  {
   "cell_type": "markdown",
   "metadata": {},
   "source": [
    "Since this is a prototype we don't need all the data. A subsample of 500 authors should be more than enough to build a working system. "
   ]
  },
  {
   "cell_type": "code",
   "execution_count": 8,
   "metadata": {
    "collapsed": true
   },
   "outputs": [],
   "source": [
    "## Set seed\n",
    "random.seed(9999)"
   ]
  },
  {
   "cell_type": "code",
   "execution_count": 9,
   "metadata": {
    "collapsed": true
   },
   "outputs": [],
   "source": [
    "authornames = pd.DataFrame(Field.loc[Field[\"attribute\"]==\"author\"].iloc[:,2])\n",
    "randomauthors = random.sample(authornames.iloc[:,0].unique(),500)"
   ]
  },
  {
   "cell_type": "code",
   "execution_count": 10,
   "metadata": {
    "collapsed": true
   },
   "outputs": [],
   "source": [
    "publications = Field[Field.value.isin(randomauthors)] #take all the rows with the authors in it\n",
    "df = Field[Field.index.isin(publications.index)] #take all the publications to get the right information"
   ]
  },
  {
   "cell_type": "code",
   "execution_count": 11,
   "metadata": {},
   "outputs": [
    {
     "data": {
      "text/html": [
       "<div>\n",
       "<style>\n",
       "    .dataframe thead tr:only-child th {\n",
       "        text-align: right;\n",
       "    }\n",
       "\n",
       "    .dataframe thead th {\n",
       "        text-align: left;\n",
       "    }\n",
       "\n",
       "    .dataframe tbody tr th {\n",
       "        vertical-align: top;\n",
       "    }\n",
       "</style>\n",
       "<table border=\"1\" class=\"dataframe\">\n",
       "  <thead>\n",
       "    <tr style=\"text-align: right;\">\n",
       "      <th></th>\n",
       "      <th>number</th>\n",
       "      <th>attribute</th>\n",
       "      <th>value</th>\n",
       "    </tr>\n",
       "    <tr>\n",
       "      <th>key</th>\n",
       "      <th></th>\n",
       "      <th></th>\n",
       "      <th></th>\n",
       "    </tr>\n",
       "  </thead>\n",
       "  <tbody>\n",
       "    <tr>\n",
       "      <th>journals/cii/Hernandez-Rodriguez16</th>\n",
       "      <td>0</td>\n",
       "      <td>author</td>\n",
       "      <td>Selene Hernández-Rodríguez</td>\n",
       "    </tr>\n",
       "    <tr>\n",
       "      <th>journals/cii/Hernandez-Rodriguez16</th>\n",
       "      <td>1</td>\n",
       "      <td>author</td>\n",
       "      <td>Carlos Alberto Hernández-Lira</td>\n",
       "    </tr>\n",
       "    <tr>\n",
       "      <th>journals/cii/Hernandez-Rodriguez16</th>\n",
       "      <td>2</td>\n",
       "      <td>author</td>\n",
       "      <td>Adolfo Aguilar-Rico</td>\n",
       "    </tr>\n",
       "    <tr>\n",
       "      <th>journals/cii/Hernandez-Rodriguez16</th>\n",
       "      <td>3</td>\n",
       "      <td>author</td>\n",
       "      <td>Georgina Flores Becerra</td>\n",
       "    </tr>\n",
       "    <tr>\n",
       "      <th>journals/cii/Hernandez-Rodriguez16</th>\n",
       "      <td>4</td>\n",
       "      <td>author</td>\n",
       "      <td>Javier Flores-Méndez</td>\n",
       "    </tr>\n",
       "  </tbody>\n",
       "</table>\n",
       "</div>"
      ],
      "text/plain": [
       "                                    number attribute  \\\n",
       "key                                                    \n",
       "journals/cii/Hernandez-Rodriguez16       0    author   \n",
       "journals/cii/Hernandez-Rodriguez16       1    author   \n",
       "journals/cii/Hernandez-Rodriguez16       2    author   \n",
       "journals/cii/Hernandez-Rodriguez16       3    author   \n",
       "journals/cii/Hernandez-Rodriguez16       4    author   \n",
       "\n",
       "                                                            value  \n",
       "key                                                                \n",
       "journals/cii/Hernandez-Rodriguez16     Selene Hernández-Rodríguez  \n",
       "journals/cii/Hernandez-Rodriguez16  Carlos Alberto Hernández-Lira  \n",
       "journals/cii/Hernandez-Rodriguez16            Adolfo Aguilar-Rico  \n",
       "journals/cii/Hernandez-Rodriguez16        Georgina Flores Becerra  \n",
       "journals/cii/Hernandez-Rodriguez16           Javier Flores-Méndez  "
      ]
     },
     "execution_count": 11,
     "metadata": {},
     "output_type": "execute_result"
    }
   ],
   "source": [
    "df.head()"
   ]
  },
  {
   "cell_type": "markdown",
   "metadata": {},
   "source": [
    "## Data Preparations"
   ]
  },
  {
   "cell_type": "markdown",
   "metadata": {},
   "source": [
    "I will need one row per author + key in the end. As an author can have multiple topics they're publishing in, I can't create one line per author. "
   ]
  },
  {
   "cell_type": "code",
   "execution_count": 12,
   "metadata": {
    "collapsed": true
   },
   "outputs": [],
   "source": [
    "authors = pd.DataFrame(df.loc[df[\"attribute\"]==\"author\"].iloc[:,2])\n",
    "authors.columns=[\"author\"]"
   ]
  },
  {
   "cell_type": "code",
   "execution_count": 13,
   "metadata": {
    "collapsed": true
   },
   "outputs": [],
   "source": [
    "df2 = df.pivot_table(index=\"key\",columns=\"attribute\",values=\"value\",aggfunc=max)\n",
    "df2 = df2.drop('author',axis=1)"
   ]
  },
  {
   "cell_type": "code",
   "execution_count": 14,
   "metadata": {
    "collapsed": true
   },
   "outputs": [],
   "source": [
    "df2 = df2.join(Pub)"
   ]
  },
  {
   "cell_type": "markdown",
   "metadata": {},
   "source": [
    "Merging authors with df2 should give a dataset with one row per author+key"
   ]
  },
  {
   "cell_type": "code",
   "execution_count": 15,
   "metadata": {
    "scrolled": false
   },
   "outputs": [
    {
     "data": {
      "text/html": [
       "<div>\n",
       "<style>\n",
       "    .dataframe thead tr:only-child th {\n",
       "        text-align: right;\n",
       "    }\n",
       "\n",
       "    .dataframe thead th {\n",
       "        text-align: left;\n",
       "    }\n",
       "\n",
       "    .dataframe tbody tr th {\n",
       "        vertical-align: top;\n",
       "    }\n",
       "</style>\n",
       "<table border=\"1\" class=\"dataframe\">\n",
       "  <thead>\n",
       "    <tr style=\"text-align: right;\">\n",
       "      <th></th>\n",
       "      <th>author</th>\n",
       "      <th>booktitle</th>\n",
       "      <th>title</th>\n",
       "      <th>year</th>\n",
       "      <th>number of co-authors</th>\n",
       "    </tr>\n",
       "    <tr>\n",
       "      <th>key</th>\n",
       "      <th></th>\n",
       "      <th></th>\n",
       "      <th></th>\n",
       "      <th></th>\n",
       "      <th></th>\n",
       "    </tr>\n",
       "  </thead>\n",
       "  <tbody>\n",
       "    <tr>\n",
       "      <th>books/bc/tanselCGSS93/Gadia93</th>\n",
       "      <td>Shashi K. Gadia</td>\n",
       "      <td>Temporal Databases</td>\n",
       "      <td>Ben-Zvi's Pioneering Work in Relational Tempor...</td>\n",
       "      <td>1993</td>\n",
       "      <td>0.0</td>\n",
       "    </tr>\n",
       "    <tr>\n",
       "      <th>books/bc/tanselCGSS93/GadiaN93</th>\n",
       "      <td>Shashi K. Gadia</td>\n",
       "      <td>Temporal Databases</td>\n",
       "      <td>Temporal Databases: A Prelude to Parametric Data.</td>\n",
       "      <td>1993</td>\n",
       "      <td>1.0</td>\n",
       "    </tr>\n",
       "    <tr>\n",
       "      <th>books/bc/tanselCGSS93/GadiaN93</th>\n",
       "      <td>Sunil S. Nair</td>\n",
       "      <td>Temporal Databases</td>\n",
       "      <td>Temporal Databases: A Prelude to Parametric Data.</td>\n",
       "      <td>1993</td>\n",
       "      <td>1.0</td>\n",
       "    </tr>\n",
       "    <tr>\n",
       "      <th>books/crc/IIR2005/CesarioWJ05</th>\n",
       "      <td>Wander O. Cesário</td>\n",
       "      <td>The Industrial Information Technology Handbook</td>\n",
       "      <td>Hardware/Software Interfaces Design for SoC.</td>\n",
       "      <td>2005</td>\n",
       "      <td>2.0</td>\n",
       "    </tr>\n",
       "    <tr>\n",
       "      <th>books/crc/IIR2005/CesarioWJ05</th>\n",
       "      <td>Flávio Rech Wagner</td>\n",
       "      <td>The Industrial Information Technology Handbook</td>\n",
       "      <td>Hardware/Software Interfaces Design for SoC.</td>\n",
       "      <td>2005</td>\n",
       "      <td>2.0</td>\n",
       "    </tr>\n",
       "  </tbody>\n",
       "</table>\n",
       "</div>"
      ],
      "text/plain": [
       "                                            author  \\\n",
       "key                                                  \n",
       "books/bc/tanselCGSS93/Gadia93      Shashi K. Gadia   \n",
       "books/bc/tanselCGSS93/GadiaN93     Shashi K. Gadia   \n",
       "books/bc/tanselCGSS93/GadiaN93       Sunil S. Nair   \n",
       "books/crc/IIR2005/CesarioWJ05    Wander O. Cesário   \n",
       "books/crc/IIR2005/CesarioWJ05   Flávio Rech Wagner   \n",
       "\n",
       "                                                                     booktitle  \\\n",
       "key                                                                              \n",
       "books/bc/tanselCGSS93/Gadia93                               Temporal Databases   \n",
       "books/bc/tanselCGSS93/GadiaN93                              Temporal Databases   \n",
       "books/bc/tanselCGSS93/GadiaN93                              Temporal Databases   \n",
       "books/crc/IIR2005/CesarioWJ05   The Industrial Information Technology Handbook   \n",
       "books/crc/IIR2005/CesarioWJ05   The Industrial Information Technology Handbook   \n",
       "\n",
       "                                                                            title  \\\n",
       "key                                                                                 \n",
       "books/bc/tanselCGSS93/Gadia93   Ben-Zvi's Pioneering Work in Relational Tempor...   \n",
       "books/bc/tanselCGSS93/GadiaN93  Temporal Databases: A Prelude to Parametric Data.   \n",
       "books/bc/tanselCGSS93/GadiaN93  Temporal Databases: A Prelude to Parametric Data.   \n",
       "books/crc/IIR2005/CesarioWJ05        Hardware/Software Interfaces Design for SoC.   \n",
       "books/crc/IIR2005/CesarioWJ05        Hardware/Software Interfaces Design for SoC.   \n",
       "\n",
       "                                year  number of co-authors  \n",
       "key                                                         \n",
       "books/bc/tanselCGSS93/Gadia93   1993                   0.0  \n",
       "books/bc/tanselCGSS93/GadiaN93  1993                   1.0  \n",
       "books/bc/tanselCGSS93/GadiaN93  1993                   1.0  \n",
       "books/crc/IIR2005/CesarioWJ05   2005                   2.0  \n",
       "books/crc/IIR2005/CesarioWJ05   2005                   2.0  "
      ]
     },
     "execution_count": 15,
     "metadata": {},
     "output_type": "execute_result"
    }
   ],
   "source": [
    "full = authors.join(df2).drop(['cite','crossref','ee','isbn','url', 'cdrom','editor','journal',\n",
    "                              'note','number','pages','publisher','school','series','volume','type'],axis=1) #dropping variables I don't need\n",
    "full.head() #now for every author I have the attributes I'll need"
   ]
  },
  {
   "cell_type": "code",
   "execution_count": 16,
   "metadata": {
    "collapsed": true
   },
   "outputs": [],
   "source": [
    "#remove the authors not in random authors as most likely part of their work is missing and therefore it \n",
    "# wouldn't be fair to use them\n",
    "full = full[full.author.isin(randomauthors)]"
   ]
  },
  {
   "cell_type": "markdown",
   "metadata": {},
   "source": [
    "### Missing Values"
   ]
  },
  {
   "cell_type": "markdown",
   "metadata": {
    "collapsed": true
   },
   "source": [
    "It could be that the author is missing. Since they represent the mentors it doesn't make sense to have them in there if there's no name."
   ]
  },
  {
   "cell_type": "code",
   "execution_count": 18,
   "metadata": {
    "collapsed": true,
    "scrolled": false
   },
   "outputs": [],
   "source": [
    "full = full.dropna(axis=0, how='any', subset=['author'])"
   ]
  },
  {
   "cell_type": "markdown",
   "metadata": {},
   "source": [
    "## Feature Engineering"
   ]
  },
  {
   "cell_type": "markdown",
   "metadata": {},
   "source": [
    "#### Set Column Types"
   ]
  },
  {
   "cell_type": "code",
   "execution_count": 17,
   "metadata": {
    "collapsed": true
   },
   "outputs": [],
   "source": [
    "full['year'] = full['year'].apply(pd.to_numeric)"
   ]
  },
  {
   "cell_type": "markdown",
   "metadata": {},
   "source": [
    "#### Number of Publications (Expertise)"
   ]
  },
  {
   "cell_type": "code",
   "execution_count": 19,
   "metadata": {
    "collapsed": true,
    "scrolled": true
   },
   "outputs": [],
   "source": [
    "author_articles = pd.DataFrame(full.groupby('author').nunique().loc[:,'title'])\n",
    "author_articles.columns = [\"number of publications\"]"
   ]
  },
  {
   "cell_type": "markdown",
   "metadata": {},
   "source": [
    "#### Years of Activity (Experience)"
   ]
  },
  {
   "cell_type": "code",
   "execution_count": 20,
   "metadata": {
    "collapsed": true
   },
   "outputs": [],
   "source": [
    "minyear = pd.DataFrame(full.groupby('author').agg('min').iloc[:,2])\n",
    "minyear.columns=[\"year_min\"]\n",
    "maxyear = pd.DataFrame(full.groupby('author').agg('max').iloc[:,2])\n",
    "maxyear.columns=[\"year_max\"]\n",
    "years = minyear.join(maxyear)"
   ]
  },
  {
   "cell_type": "code",
   "execution_count": 21,
   "metadata": {
    "collapsed": true,
    "scrolled": true
   },
   "outputs": [],
   "source": [
    "years = years.replace(np.inf,np.nan)\n",
    "years.year_min.fillna(years.year_max,inplace=True)\n",
    "years['years_active']=pd.to_numeric(years['year_max'])-pd.to_numeric(years['year_min'])+1"
   ]
  },
  {
   "cell_type": "markdown",
   "metadata": {},
   "source": [
    "#### Number of Co-Authors (Social)"
   ]
  },
  {
   "cell_type": "code",
   "execution_count": 22,
   "metadata": {
    "collapsed": true
   },
   "outputs": [],
   "source": [
    "co_min = pd.DataFrame(full.groupby('author').agg('min').loc[:,'number of co-authors'])\n",
    "co_min.columns=[\"co_min\"]\n",
    "co_max = pd.DataFrame(full.groupby('author').agg('max').loc[:,'number of co-authors'])\n",
    "co_max.columns=[\"co_max\"]\n",
    "co_mean = pd.DataFrame(full.groupby('author').agg('mean').loc[:,'number of co-authors'])\n",
    "co_mean.columns=[\"co_mean\"]"
   ]
  },
  {
   "cell_type": "code",
   "execution_count": 23,
   "metadata": {},
   "outputs": [
    {
     "data": {
      "text/html": [
       "<div>\n",
       "<style>\n",
       "    .dataframe thead tr:only-child th {\n",
       "        text-align: right;\n",
       "    }\n",
       "\n",
       "    .dataframe thead th {\n",
       "        text-align: left;\n",
       "    }\n",
       "\n",
       "    .dataframe tbody tr th {\n",
       "        vertical-align: top;\n",
       "    }\n",
       "</style>\n",
       "<table border=\"1\" class=\"dataframe\">\n",
       "  <thead>\n",
       "    <tr style=\"text-align: right;\">\n",
       "      <th></th>\n",
       "      <th>co_min</th>\n",
       "      <th>co_max</th>\n",
       "      <th>co_mean</th>\n",
       "    </tr>\n",
       "    <tr>\n",
       "      <th>author</th>\n",
       "      <th></th>\n",
       "      <th></th>\n",
       "      <th></th>\n",
       "    </tr>\n",
       "  </thead>\n",
       "  <tbody>\n",
       "    <tr>\n",
       "      <th>A. Sailer</th>\n",
       "      <td>0.0</td>\n",
       "      <td>4.0</td>\n",
       "      <td>2.0</td>\n",
       "    </tr>\n",
       "    <tr>\n",
       "      <th>A. Zhuravlev</th>\n",
       "      <td>0.0</td>\n",
       "      <td>4.0</td>\n",
       "      <td>2.0</td>\n",
       "    </tr>\n",
       "    <tr>\n",
       "      <th>Abalfazl Zareei</th>\n",
       "      <td>0.0</td>\n",
       "      <td>4.0</td>\n",
       "      <td>2.0</td>\n",
       "    </tr>\n",
       "    <tr>\n",
       "      <th>Abdelkader Benabou</th>\n",
       "      <td>0.0</td>\n",
       "      <td>3.0</td>\n",
       "      <td>1.5</td>\n",
       "    </tr>\n",
       "    <tr>\n",
       "      <th>Abel Bueno</th>\n",
       "      <td>0.0</td>\n",
       "      <td>3.0</td>\n",
       "      <td>1.5</td>\n",
       "    </tr>\n",
       "  </tbody>\n",
       "</table>\n",
       "</div>"
      ],
      "text/plain": [
       "                    co_min  co_max  co_mean\n",
       "author                                     \n",
       "A. Sailer              0.0     4.0      2.0\n",
       "A. Zhuravlev           0.0     4.0      2.0\n",
       "Abalfazl Zareei        0.0     4.0      2.0\n",
       "Abdelkader Benabou     0.0     3.0      1.5\n",
       "Abel Bueno             0.0     3.0      1.5"
      ]
     },
     "execution_count": 23,
     "metadata": {},
     "output_type": "execute_result"
    }
   ],
   "source": [
    "co = co_min.join(co_max)\n",
    "co = co.join(co_mean)\n",
    "co.head()"
   ]
  },
  {
   "cell_type": "markdown",
   "metadata": {},
   "source": [
    "#### Merge all of it"
   ]
  },
  {
   "cell_type": "code",
   "execution_count": 24,
   "metadata": {
    "collapsed": true
   },
   "outputs": [],
   "source": [
    "author_information = author_articles.join(years)\n",
    "author_information = author_information.join(co)"
   ]
  },
  {
   "cell_type": "code",
   "execution_count": 25,
   "metadata": {},
   "outputs": [
    {
     "data": {
      "text/html": [
       "<div>\n",
       "<style>\n",
       "    .dataframe thead tr:only-child th {\n",
       "        text-align: right;\n",
       "    }\n",
       "\n",
       "    .dataframe thead th {\n",
       "        text-align: left;\n",
       "    }\n",
       "\n",
       "    .dataframe tbody tr th {\n",
       "        vertical-align: top;\n",
       "    }\n",
       "</style>\n",
       "<table border=\"1\" class=\"dataframe\">\n",
       "  <thead>\n",
       "    <tr style=\"text-align: right;\">\n",
       "      <th></th>\n",
       "      <th>number of publications</th>\n",
       "      <th>year_min</th>\n",
       "      <th>year_max</th>\n",
       "      <th>years_active</th>\n",
       "      <th>co_min</th>\n",
       "      <th>co_max</th>\n",
       "      <th>co_mean</th>\n",
       "    </tr>\n",
       "    <tr>\n",
       "      <th>author</th>\n",
       "      <th></th>\n",
       "      <th></th>\n",
       "      <th></th>\n",
       "      <th></th>\n",
       "      <th></th>\n",
       "      <th></th>\n",
       "      <th></th>\n",
       "    </tr>\n",
       "  </thead>\n",
       "  <tbody>\n",
       "    <tr>\n",
       "      <th>A. Sailer</th>\n",
       "      <td>2</td>\n",
       "      <td>2016.0</td>\n",
       "      <td>2016.0</td>\n",
       "      <td>1.0</td>\n",
       "      <td>0.0</td>\n",
       "      <td>4.0</td>\n",
       "      <td>2.0</td>\n",
       "    </tr>\n",
       "    <tr>\n",
       "      <th>A. Zhuravlev</th>\n",
       "      <td>2</td>\n",
       "      <td>2015.0</td>\n",
       "      <td>2015.0</td>\n",
       "      <td>1.0</td>\n",
       "      <td>0.0</td>\n",
       "      <td>4.0</td>\n",
       "      <td>2.0</td>\n",
       "    </tr>\n",
       "    <tr>\n",
       "      <th>Abalfazl Zareei</th>\n",
       "      <td>2</td>\n",
       "      <td>2011.0</td>\n",
       "      <td>2011.0</td>\n",
       "      <td>1.0</td>\n",
       "      <td>0.0</td>\n",
       "      <td>4.0</td>\n",
       "      <td>2.0</td>\n",
       "    </tr>\n",
       "    <tr>\n",
       "      <th>Abdelkader Benabou</th>\n",
       "      <td>2</td>\n",
       "      <td>2014.0</td>\n",
       "      <td>2014.0</td>\n",
       "      <td>1.0</td>\n",
       "      <td>0.0</td>\n",
       "      <td>3.0</td>\n",
       "      <td>1.5</td>\n",
       "    </tr>\n",
       "    <tr>\n",
       "      <th>Abel Bueno</th>\n",
       "      <td>2</td>\n",
       "      <td>2005.0</td>\n",
       "      <td>2005.0</td>\n",
       "      <td>1.0</td>\n",
       "      <td>0.0</td>\n",
       "      <td>3.0</td>\n",
       "      <td>1.5</td>\n",
       "    </tr>\n",
       "  </tbody>\n",
       "</table>\n",
       "</div>"
      ],
      "text/plain": [
       "                    number of publications  year_min  year_max  years_active  \\\n",
       "author                                                                         \n",
       "A. Sailer                                2    2016.0    2016.0           1.0   \n",
       "A. Zhuravlev                             2    2015.0    2015.0           1.0   \n",
       "Abalfazl Zareei                          2    2011.0    2011.0           1.0   \n",
       "Abdelkader Benabou                       2    2014.0    2014.0           1.0   \n",
       "Abel Bueno                               2    2005.0    2005.0           1.0   \n",
       "\n",
       "                    co_min  co_max  co_mean  \n",
       "author                                       \n",
       "A. Sailer              0.0     4.0      2.0  \n",
       "A. Zhuravlev           0.0     4.0      2.0  \n",
       "Abalfazl Zareei        0.0     4.0      2.0  \n",
       "Abdelkader Benabou     0.0     3.0      1.5  \n",
       "Abel Bueno             0.0     3.0      1.5  "
      ]
     },
     "execution_count": 25,
     "metadata": {},
     "output_type": "execute_result"
    }
   ],
   "source": [
    "author_information.head()"
   ]
  },
  {
   "cell_type": "markdown",
   "metadata": {},
   "source": [
    "#### Merge back with full dataset"
   ]
  },
  {
   "cell_type": "code",
   "execution_count": 26,
   "metadata": {
    "scrolled": false
   },
   "outputs": [
    {
     "data": {
      "text/html": [
       "<div>\n",
       "<style>\n",
       "    .dataframe thead tr:only-child th {\n",
       "        text-align: right;\n",
       "    }\n",
       "\n",
       "    .dataframe thead th {\n",
       "        text-align: left;\n",
       "    }\n",
       "\n",
       "    .dataframe tbody tr th {\n",
       "        vertical-align: top;\n",
       "    }\n",
       "</style>\n",
       "<table border=\"1\" class=\"dataframe\">\n",
       "  <thead>\n",
       "    <tr style=\"text-align: right;\">\n",
       "      <th></th>\n",
       "      <th>author</th>\n",
       "      <th>booktitle</th>\n",
       "      <th>title</th>\n",
       "      <th>number of publications</th>\n",
       "      <th>years_active</th>\n",
       "      <th>co_mean</th>\n",
       "    </tr>\n",
       "    <tr>\n",
       "      <th>key</th>\n",
       "      <th></th>\n",
       "      <th></th>\n",
       "      <th></th>\n",
       "      <th></th>\n",
       "      <th></th>\n",
       "      <th></th>\n",
       "    </tr>\n",
       "  </thead>\n",
       "  <tbody>\n",
       "    <tr>\n",
       "      <th>books/bc/tanselCGSS93/Gadia93</th>\n",
       "      <td>Shashi K. Gadia</td>\n",
       "      <td>Temporal Databases</td>\n",
       "      <td>Ben-Zvi's Pioneering Work in Relational Tempor...</td>\n",
       "      <td>46</td>\n",
       "      <td>32.0</td>\n",
       "      <td>2.065217</td>\n",
       "    </tr>\n",
       "    <tr>\n",
       "      <th>books/bc/tanselCGSS93/GadiaN93</th>\n",
       "      <td>Shashi K. Gadia</td>\n",
       "      <td>Temporal Databases</td>\n",
       "      <td>Temporal Databases: A Prelude to Parametric Data.</td>\n",
       "      <td>46</td>\n",
       "      <td>32.0</td>\n",
       "      <td>2.065217</td>\n",
       "    </tr>\n",
       "    <tr>\n",
       "      <th>books/crc/IIR2005/CesarioWJ05</th>\n",
       "      <td>Wander O. Cesário</td>\n",
       "      <td>The Industrial Information Technology Handbook</td>\n",
       "      <td>Hardware/Software Interfaces Design for SoC.</td>\n",
       "      <td>26</td>\n",
       "      <td>11.0</td>\n",
       "      <td>3.592593</td>\n",
       "    </tr>\n",
       "    <tr>\n",
       "      <th>books/crc/linked14/ParundekarKA14</th>\n",
       "      <td>Rahul Parundekar</td>\n",
       "      <td>Linked Data Management</td>\n",
       "      <td>Aligning Ontologies of Linked Data.</td>\n",
       "      <td>11</td>\n",
       "      <td>6.0</td>\n",
       "      <td>1.833333</td>\n",
       "    </tr>\n",
       "    <tr>\n",
       "      <th>books/crc/zurawski2009/PopoviciCWJ09</th>\n",
       "      <td>Wander O. Cesário</td>\n",
       "      <td>Embedded Systems Design and Verification</td>\n",
       "      <td>Hardware/Software Interfaces Design for SoC.</td>\n",
       "      <td>26</td>\n",
       "      <td>11.0</td>\n",
       "      <td>3.592593</td>\n",
       "    </tr>\n",
       "  </tbody>\n",
       "</table>\n",
       "</div>"
      ],
      "text/plain": [
       "                                                 author  \\\n",
       "key                                                       \n",
       "books/bc/tanselCGSS93/Gadia93           Shashi K. Gadia   \n",
       "books/bc/tanselCGSS93/GadiaN93          Shashi K. Gadia   \n",
       "books/crc/IIR2005/CesarioWJ05         Wander O. Cesário   \n",
       "books/crc/linked14/ParundekarKA14      Rahul Parundekar   \n",
       "books/crc/zurawski2009/PopoviciCWJ09  Wander O. Cesário   \n",
       "\n",
       "                                                                           booktitle  \\\n",
       "key                                                                                    \n",
       "books/bc/tanselCGSS93/Gadia93                                     Temporal Databases   \n",
       "books/bc/tanselCGSS93/GadiaN93                                    Temporal Databases   \n",
       "books/crc/IIR2005/CesarioWJ05         The Industrial Information Technology Handbook   \n",
       "books/crc/linked14/ParundekarKA14                             Linked Data Management   \n",
       "books/crc/zurawski2009/PopoviciCWJ09        Embedded Systems Design and Verification   \n",
       "\n",
       "                                                                                  title  \\\n",
       "key                                                                                       \n",
       "books/bc/tanselCGSS93/Gadia93         Ben-Zvi's Pioneering Work in Relational Tempor...   \n",
       "books/bc/tanselCGSS93/GadiaN93        Temporal Databases: A Prelude to Parametric Data.   \n",
       "books/crc/IIR2005/CesarioWJ05              Hardware/Software Interfaces Design for SoC.   \n",
       "books/crc/linked14/ParundekarKA14                   Aligning Ontologies of Linked Data.   \n",
       "books/crc/zurawski2009/PopoviciCWJ09       Hardware/Software Interfaces Design for SoC.   \n",
       "\n",
       "                                      number of publications  years_active  \\\n",
       "key                                                                          \n",
       "books/bc/tanselCGSS93/Gadia93                             46          32.0   \n",
       "books/bc/tanselCGSS93/GadiaN93                            46          32.0   \n",
       "books/crc/IIR2005/CesarioWJ05                             26          11.0   \n",
       "books/crc/linked14/ParundekarKA14                         11           6.0   \n",
       "books/crc/zurawski2009/PopoviciCWJ09                      26          11.0   \n",
       "\n",
       "                                       co_mean  \n",
       "key                                             \n",
       "books/bc/tanselCGSS93/Gadia93         2.065217  \n",
       "books/bc/tanselCGSS93/GadiaN93        2.065217  \n",
       "books/crc/IIR2005/CesarioWJ05         3.592593  \n",
       "books/crc/linked14/ParundekarKA14     1.833333  \n",
       "books/crc/zurawski2009/PopoviciCWJ09  3.592593  "
      ]
     },
     "execution_count": 26,
     "metadata": {},
     "output_type": "execute_result"
    }
   ],
   "source": [
    "full = full.join(author_information,'author')\n",
    "full = full.drop(['year','number of co-authors','year_min','year_max','co_min','co_max'],axis=1)\n",
    "full.head()"
   ]
  },
  {
   "cell_type": "markdown",
   "metadata": {},
   "source": [
    "### Text Mining: Topic Extraction"
   ]
  },
  {
   "cell_type": "markdown",
   "metadata": {},
   "source": [
    "For topic extraction I use the RAKE algorithm for keyword extraction."
   ]
  },
  {
   "cell_type": "code",
   "execution_count": 66,
   "metadata": {},
   "outputs": [],
   "source": [
    "r=Rake()\n",
    "mytext = full.iloc[:,2]\n",
    "mytext = mytext.str.strip()"
   ]
  },
  {
   "cell_type": "code",
   "execution_count": 67,
   "metadata": {},
   "outputs": [],
   "source": [
    "for i in range(0,mytext.size):\n",
    "    mytext[i] = mytext[i].decode('utf-8')"
   ]
  },
  {
   "cell_type": "code",
   "execution_count": 68,
   "metadata": {},
   "outputs": [],
   "source": [
    "topic_features = [None] * mytext.size\n",
    "for i in range(0,mytext.size):\n",
    "    r.extract_keywords_from_text(mytext[i])\n",
    "    topic_features[i] = r.get_ranked_phrases()[0:2]"
   ]
  },
  {
   "cell_type": "code",
   "execution_count": 69,
   "metadata": {},
   "outputs": [],
   "source": [
    "full[\"topic features\"] = topic_features\n",
    "full.columns=[\"Mentor\",\"booktitle\",\"title\",\"Expertise\",\"Experience\",\"Social\",\"topic features\"]"
   ]
  },
  {
   "cell_type": "code",
   "execution_count": 70,
   "metadata": {
    "scrolled": true
   },
   "outputs": [
    {
     "data": {
      "text/html": [
       "<div>\n",
       "<style>\n",
       "    .dataframe thead tr:only-child th {\n",
       "        text-align: right;\n",
       "    }\n",
       "\n",
       "    .dataframe thead th {\n",
       "        text-align: left;\n",
       "    }\n",
       "\n",
       "    .dataframe tbody tr th {\n",
       "        vertical-align: top;\n",
       "    }\n",
       "</style>\n",
       "<table border=\"1\" class=\"dataframe\">\n",
       "  <thead>\n",
       "    <tr style=\"text-align: right;\">\n",
       "      <th></th>\n",
       "      <th>Mentor</th>\n",
       "      <th>booktitle</th>\n",
       "      <th>title</th>\n",
       "      <th>Expertise</th>\n",
       "      <th>Experience</th>\n",
       "      <th>Social</th>\n",
       "      <th>topic features</th>\n",
       "    </tr>\n",
       "    <tr>\n",
       "      <th>key</th>\n",
       "      <th></th>\n",
       "      <th></th>\n",
       "      <th></th>\n",
       "      <th></th>\n",
       "      <th></th>\n",
       "      <th></th>\n",
       "      <th></th>\n",
       "    </tr>\n",
       "  </thead>\n",
       "  <tbody>\n",
       "    <tr>\n",
       "      <th>books/bc/tanselCGSS93/Gadia93</th>\n",
       "      <td>Shashi K. Gadia</td>\n",
       "      <td>Temporal Databases</td>\n",
       "      <td>Ben-Zvi's Pioneering Work in Relational Tempor...</td>\n",
       "      <td>46</td>\n",
       "      <td>32.0</td>\n",
       "      <td>2.065217</td>\n",
       "      <td>[relational temporal databases, pioneering work]</td>\n",
       "    </tr>\n",
       "    <tr>\n",
       "      <th>books/bc/tanselCGSS93/GadiaN93</th>\n",
       "      <td>Shashi K. Gadia</td>\n",
       "      <td>Temporal Databases</td>\n",
       "      <td>Temporal Databases: A Prelude to Parametric Data.</td>\n",
       "      <td>46</td>\n",
       "      <td>32.0</td>\n",
       "      <td>2.065217</td>\n",
       "      <td>[temporal databases, parametric data]</td>\n",
       "    </tr>\n",
       "    <tr>\n",
       "      <th>books/crc/IIR2005/CesarioWJ05</th>\n",
       "      <td>Wander O. Cesário</td>\n",
       "      <td>The Industrial Information Technology Handbook</td>\n",
       "      <td>Hardware/Software Interfaces Design for SoC.</td>\n",
       "      <td>26</td>\n",
       "      <td>11.0</td>\n",
       "      <td>3.592593</td>\n",
       "      <td>[software interfaces design, soc]</td>\n",
       "    </tr>\n",
       "    <tr>\n",
       "      <th>books/crc/linked14/ParundekarKA14</th>\n",
       "      <td>Rahul Parundekar</td>\n",
       "      <td>Linked Data Management</td>\n",
       "      <td>Aligning Ontologies of Linked Data.</td>\n",
       "      <td>11</td>\n",
       "      <td>6.0</td>\n",
       "      <td>1.833333</td>\n",
       "      <td>[linked data, aligning ontologies]</td>\n",
       "    </tr>\n",
       "    <tr>\n",
       "      <th>books/crc/zurawski2009/PopoviciCWJ09</th>\n",
       "      <td>Wander O. Cesário</td>\n",
       "      <td>Embedded Systems Design and Verification</td>\n",
       "      <td>Hardware/Software Interfaces Design for SoC.</td>\n",
       "      <td>26</td>\n",
       "      <td>11.0</td>\n",
       "      <td>3.592593</td>\n",
       "      <td>[software interfaces design, soc]</td>\n",
       "    </tr>\n",
       "  </tbody>\n",
       "</table>\n",
       "</div>"
      ],
      "text/plain": [
       "                                                 Mentor  \\\n",
       "key                                                       \n",
       "books/bc/tanselCGSS93/Gadia93           Shashi K. Gadia   \n",
       "books/bc/tanselCGSS93/GadiaN93          Shashi K. Gadia   \n",
       "books/crc/IIR2005/CesarioWJ05         Wander O. Cesário   \n",
       "books/crc/linked14/ParundekarKA14      Rahul Parundekar   \n",
       "books/crc/zurawski2009/PopoviciCWJ09  Wander O. Cesário   \n",
       "\n",
       "                                                                           booktitle  \\\n",
       "key                                                                                    \n",
       "books/bc/tanselCGSS93/Gadia93                                     Temporal Databases   \n",
       "books/bc/tanselCGSS93/GadiaN93                                    Temporal Databases   \n",
       "books/crc/IIR2005/CesarioWJ05         The Industrial Information Technology Handbook   \n",
       "books/crc/linked14/ParundekarKA14                             Linked Data Management   \n",
       "books/crc/zurawski2009/PopoviciCWJ09        Embedded Systems Design and Verification   \n",
       "\n",
       "                                                                                  title  \\\n",
       "key                                                                                       \n",
       "books/bc/tanselCGSS93/Gadia93         Ben-Zvi's Pioneering Work in Relational Tempor...   \n",
       "books/bc/tanselCGSS93/GadiaN93        Temporal Databases: A Prelude to Parametric Data.   \n",
       "books/crc/IIR2005/CesarioWJ05              Hardware/Software Interfaces Design for SoC.   \n",
       "books/crc/linked14/ParundekarKA14                   Aligning Ontologies of Linked Data.   \n",
       "books/crc/zurawski2009/PopoviciCWJ09       Hardware/Software Interfaces Design for SoC.   \n",
       "\n",
       "                                      Expertise  Experience    Social  \\\n",
       "key                                                                     \n",
       "books/bc/tanselCGSS93/Gadia93                46        32.0  2.065217   \n",
       "books/bc/tanselCGSS93/GadiaN93               46        32.0  2.065217   \n",
       "books/crc/IIR2005/CesarioWJ05                26        11.0  3.592593   \n",
       "books/crc/linked14/ParundekarKA14            11         6.0  1.833333   \n",
       "books/crc/zurawski2009/PopoviciCWJ09         26        11.0  3.592593   \n",
       "\n",
       "                                                                        topic features  \n",
       "key                                                                                     \n",
       "books/bc/tanselCGSS93/Gadia93         [relational temporal databases, pioneering work]  \n",
       "books/bc/tanselCGSS93/GadiaN93                   [temporal databases, parametric data]  \n",
       "books/crc/IIR2005/CesarioWJ05                        [software interfaces design, soc]  \n",
       "books/crc/linked14/ParundekarKA14                   [linked data, aligning ontologies]  \n",
       "books/crc/zurawski2009/PopoviciCWJ09                 [software interfaces design, soc]  "
      ]
     },
     "execution_count": 70,
     "metadata": {},
     "output_type": "execute_result"
    }
   ],
   "source": [
    "full.head()"
   ]
  },
  {
   "cell_type": "markdown",
   "metadata": {},
   "source": [
    "Note:\n",
    "I would have liked to have done the following: \n",
    " - per author combine all the keyword phrases\n",
    " - Run Bag of Words on this combined collection to see if that can help find the most important/frequent topics"
   ]
  },
  {
   "cell_type": "markdown",
   "metadata": {},
   "source": [
    "## Recommendation System"
   ]
  },
  {
   "cell_type": "markdown",
   "metadata": {},
   "source": [
    "Mentee asks for a specific topic"
   ]
  },
  {
   "cell_type": "code",
   "execution_count": 32,
   "metadata": {},
   "outputs": [
    {
     "name": "stdout",
     "output_type": "stream",
     "text": [
      "Please choose a topic: Databases\n"
     ]
    }
   ],
   "source": [
    "topic = raw_input(\"Please choose a topic: \")"
   ]
  },
  {
   "cell_type": "code",
   "execution_count": 33,
   "metadata": {},
   "outputs": [],
   "source": [
    "#topic = topic.str.lower()\n",
    "mentors = full[full.title.str.lower().str.contains(topic.lower())]['Mentor'].unique()\n",
    "\n",
    "possible_mentors = full[full['Mentor'].isin(mentors)].groupby('Mentor').agg('max').drop(['booktitle','title'],axis=1)"
   ]
  },
  {
   "cell_type": "code",
   "execution_count": 34,
   "metadata": {
    "scrolled": true
   },
   "outputs": [
    {
     "name": "stdout",
     "output_type": "stream",
     "text": [
      "Which do you value the most? Expertise, Experience, Social: Social\n"
     ]
    }
   ],
   "source": [
    "values = raw_input(\"Which do you value the most? Expertise, Experience, Social: \")"
   ]
  },
  {
   "cell_type": "code",
   "execution_count": 35,
   "metadata": {},
   "outputs": [
    {
     "name": "stdout",
     "output_type": "stream",
     "text": [
      "Your possible mentors are, sorted by  Social :\n"
     ]
    }
   ],
   "source": [
    "print \"Your possible mentors are, sorted by \", values, \":\""
   ]
  },
  {
   "cell_type": "code",
   "execution_count": 36,
   "metadata": {},
   "outputs": [
    {
     "data": {
      "text/html": [
       "<div>\n",
       "<style>\n",
       "    .dataframe thead tr:only-child th {\n",
       "        text-align: right;\n",
       "    }\n",
       "\n",
       "    .dataframe thead th {\n",
       "        text-align: left;\n",
       "    }\n",
       "\n",
       "    .dataframe tbody tr th {\n",
       "        vertical-align: top;\n",
       "    }\n",
       "</style>\n",
       "<table border=\"1\" class=\"dataframe\">\n",
       "  <thead>\n",
       "    <tr style=\"text-align: right;\">\n",
       "      <th></th>\n",
       "      <th>Expertise</th>\n",
       "      <th>Experience</th>\n",
       "      <th>Social</th>\n",
       "      <th>topic features</th>\n",
       "    </tr>\n",
       "    <tr>\n",
       "      <th>Mentor</th>\n",
       "      <th></th>\n",
       "      <th></th>\n",
       "      <th></th>\n",
       "      <th></th>\n",
       "    </tr>\n",
       "  </thead>\n",
       "  <tbody>\n",
       "    <tr>\n",
       "      <th>Ismael Navas Delgado</th>\n",
       "      <td>52</td>\n",
       "      <td>14.0</td>\n",
       "      <td>3.509434</td>\n",
       "      <td>[visual semantic browser, vsb]</td>\n",
       "    </tr>\n",
       "    <tr>\n",
       "      <th>Arvind Narayanan</th>\n",
       "      <td>52</td>\n",
       "      <td>15.0</td>\n",
       "      <td>2.826923</td>\n",
       "      <td>[wireless testbed using geni, robotic mobile n...</td>\n",
       "    </tr>\n",
       "    <tr>\n",
       "      <th>Justin Pearson</th>\n",
       "      <td>68</td>\n",
       "      <td>20.0</td>\n",
       "      <td>2.657143</td>\n",
       "      <td>[workload constraints arising, violation funct...</td>\n",
       "    </tr>\n",
       "    <tr>\n",
       "      <th>Kevin Watanabe</th>\n",
       "      <td>2</td>\n",
       "      <td>1.0</td>\n",
       "      <td>2.500000</td>\n",
       "      <td>[molecular biology databases, metabolic pathwa...</td>\n",
       "    </tr>\n",
       "    <tr>\n",
       "      <th>Shashi K. Gadia</th>\n",
       "      <td>46</td>\n",
       "      <td>32.0</td>\n",
       "      <td>2.065217</td>\n",
       "      <td>[zero information loss, relational database sy...</td>\n",
       "    </tr>\n",
       "    <tr>\n",
       "      <th>John Kominek</th>\n",
       "      <td>19</td>\n",
       "      <td>17.0</td>\n",
       "      <td>1.578947</td>\n",
       "      <td>[word selection strategies, learning pronuncia...</td>\n",
       "    </tr>\n",
       "    <tr>\n",
       "      <th>Azade Roohany</th>\n",
       "      <td>2</td>\n",
       "      <td>1.0</td>\n",
       "      <td>0.500000</td>\n",
       "      <td>[proposing cluster_similarity method, much bet...</td>\n",
       "    </tr>\n",
       "    <tr>\n",
       "      <th>Walid Adly Atteya Abdo</th>\n",
       "      <td>2</td>\n",
       "      <td>1.0</td>\n",
       "      <td>0.000000</td>\n",
       "      <td>[home page]</td>\n",
       "    </tr>\n",
       "  </tbody>\n",
       "</table>\n",
       "</div>"
      ],
      "text/plain": [
       "                        Expertise  Experience    Social  \\\n",
       "Mentor                                                    \n",
       "Ismael Navas Delgado           52        14.0  3.509434   \n",
       "Arvind Narayanan               52        15.0  2.826923   \n",
       "Justin Pearson                 68        20.0  2.657143   \n",
       "Kevin Watanabe                  2         1.0  2.500000   \n",
       "Shashi K. Gadia                46        32.0  2.065217   \n",
       "John Kominek                   19        17.0  1.578947   \n",
       "Azade Roohany                   2         1.0  0.500000   \n",
       "Walid Adly Atteya Abdo          2         1.0  0.000000   \n",
       "\n",
       "                                                           topic features  \n",
       "Mentor                                                                     \n",
       "Ismael Navas Delgado                       [visual semantic browser, vsb]  \n",
       "Arvind Narayanan        [wireless testbed using geni, robotic mobile n...  \n",
       "Justin Pearson          [workload constraints arising, violation funct...  \n",
       "Kevin Watanabe          [molecular biology databases, metabolic pathwa...  \n",
       "Shashi K. Gadia         [zero information loss, relational database sy...  \n",
       "John Kominek            [word selection strategies, learning pronuncia...  \n",
       "Azade Roohany           [proposing cluster_similarity method, much bet...  \n",
       "Walid Adly Atteya Abdo                                        [home page]  "
      ]
     },
     "execution_count": 36,
     "metadata": {},
     "output_type": "execute_result"
    }
   ],
   "source": [
    "possible_mentors = possible_mentors.sort_values(values,ascending=False)\n",
    "possible_mentors"
   ]
  },
  {
   "cell_type": "code",
   "execution_count": 37,
   "metadata": {},
   "outputs": [
    {
     "name": "stdout",
     "output_type": "stream",
     "text": [
      "Mentor Match's best suggestion would be: Ismael Navas Delgado\n"
     ]
    }
   ],
   "source": [
    "print \"Mentor Match's best suggestion would be:\", possible_mentors.index[0]"
   ]
  },
  {
   "cell_type": "markdown",
   "metadata": {},
   "source": [
    "## Plots"
   ]
  },
  {
   "cell_type": "code",
   "execution_count": 50,
   "metadata": {},
   "outputs": [
    {
     "data": {
      "image/png": "[encoded data removed]",
      "text/plain": [
       "<matplotlib.figure.Figure at 0x1154d5518>"
      ]
     },
     "metadata": {},
     "output_type": "display_data"
    }
   ],
   "source": [
    "# Publications\n",
    "plt.figure(figsize=(9, 8))\n",
    "plt.hist(full.groupby('Mentor').agg('min').iloc[:,2].dropna(),bins=30,color=\"#3498db\")\n",
    "plt.ylabel(\"Frequency\",fontsize=22)\n",
    "plt.xlabel(\"Number of Publications\",fontsize=22)\n",
    "plt.tick_params(labelsize=18)"
   ]
  },
  {
   "cell_type": "code",
   "execution_count": 51,
   "metadata": {},
   "outputs": [
    {
     "data": {
      "image/png": "[encoded data removed]",
      "text/plain": [
       "<matplotlib.figure.Figure at 0x115904c50>"
      ]
     },
     "metadata": {},
     "output_type": "display_data"
    }
   ],
   "source": [
    "# years active\n",
    "plt.figure(figsize=(9, 8))\n",
    "plt.hist(full.groupby('Mentor').agg('min').iloc[:,2].dropna(),bins=45,color=\"#3498db\")\n",
    "plt.ylabel(\"Frequency\",fontsize=22)\n",
    "plt.xlabel(\"Years of Activity\",fontsize=22)\n",
    "plt.tick_params(labelsize=18)"
   ]
  },
  {
   "cell_type": "code",
   "execution_count": 54,
   "metadata": {},
   "outputs": [
    {
     "data": {
      "image/png": "[encoded data removed]",
      "text/plain": [
       "<matplotlib.figure.Figure at 0x11085828>"
      ]
     },
     "metadata": {},
     "output_type": "display_data"
    }
   ],
   "source": [
    "# mean co-authors\n",
    "plt.figure(figsize=(9, 8))\n",
    "plt.hist(full.groupby('Mentor').agg('min').iloc[:,4].dropna(),bins=30,color=\"#3498db\")\n",
    "plt.ylabel(\"Frequency\",fontsize=22)\n",
    "plt.xlabel(\"Average Number of Co-Authors\",fontsize=22)\n",
    "plt.tick_params(labelsize=18)"
   ]
  },
  {
   "cell_type": "code",
   "execution_count": 53,
   "metadata": {},
   "outputs": [
    {
     "data": {
      "image/png": "[encoded data removed]",
      "text/plain": [
       "<matplotlib.figure.Figure at 0x10f58748>"
      ]
     },
     "metadata": {},
     "output_type": "display_data"
    }
   ],
   "source": [
    "plt.figure(figsize=(9, 8))\n",
    "Employee = [\"Dissatisfied\",\"Satisfied\",\"Engaged\",\"Inspired\"]\n",
    "values = [74, 100, 144, 225]\n",
    "plt.bar(range(len(Employee)),values,align='center',color=\"#3498db\")\n",
    "plt.xticks(range(len(Employee)),Employee)\n",
    "plt.ylabel(\"Productivity (%)\",fontsize=22)\n",
    "plt.xlabel(\"Type of Employee\",fontsize=22)\n",
    "plt.tick_params(labelsize=18)"
   ]
  }
 ],
 "metadata": {
  "kernelspec": {
   "display_name": "Python 2",
   "language": "python",
   "name": "python2"
  },
  "language_info": {
   "codemirror_mode": {
    "name": "ipython",
    "version": 2
   },
   "file_extension": ".py",
   "mimetype": "text/x-python",
   "name": "python",
   "nbconvert_exporter": "python",
   "pygments_lexer": "ipython2",
   "version": "2.7.13"
  }
 },
 "nbformat": 4,
 "nbformat_minor": 2
}
